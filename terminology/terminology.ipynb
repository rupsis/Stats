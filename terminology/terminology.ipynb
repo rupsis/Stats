{
 "cells": [
  {
   "cell_type": "markdown",
   "metadata": {},
   "source": [
    "# Terminology\n",
    "\n",
    "All field have ~jargon~ their own vocabulary, and statistics is most certainly one of them. \n",
    "\n",
    "Here are some terminology cheat sheets from around the web:\n",
    "* [mit](http://web.mit.edu/~csvoss/Public/usabo/stats_handout.pdf)\n",
    "* [harvard](http://people.fas.harvard.edu/~mparzen/stat100/Stat%20100%20Final%20Cheat%20Sheets%20-%20Google%20Docs%20(2).pdf)\n",
    "* [medium](https://terenceshin.medium.com/week-2-52-stats-cheat-sheet-ae38a2e5cdc6)\n",
    "\n",
    "\n",
    "While the cheat sheets are helpful, I'm going to try and provide some examples along with the explanation. "
   ]
  },
  {
   "cell_type": "markdown",
   "metadata": {},
   "source": []
  },
  {
   "cell_type": "markdown",
   "metadata": {},
   "source": [
    "## Data \n",
    "\n",
    "Statistics is all about data, running operations on that data, and trying to making sense of it. For this, we use some different terminology: \n",
    "\n",
    "**population**: \n",
    "\n",
    "**Sample**"
   ]
  },
  {
   "cell_type": "code",
   "execution_count": null,
   "metadata": {},
   "outputs": [],
   "source": []
  },
  {
   "cell_type": "markdown",
   "metadata": {},
   "source": [
    "## Population Parameters"
   ]
  }
 ],
 "metadata": {
  "kernelspec": {
   "display_name": "Python 3",
   "language": "python",
   "name": "python3"
  },
  "language_info": {
   "codemirror_mode": {
    "name": "ipython",
    "version": 3
   },
   "file_extension": ".py",
   "mimetype": "text/x-python",
   "name": "python",
   "nbconvert_exporter": "python",
   "pygments_lexer": "ipython3",
   "version": "3.7.2"
  }
 },
 "nbformat": 4,
 "nbformat_minor": 2
}
